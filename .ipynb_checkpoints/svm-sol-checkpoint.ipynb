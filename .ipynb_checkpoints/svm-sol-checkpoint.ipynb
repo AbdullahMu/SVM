{
 "cells": [
  {
   "cell_type": "markdown",
   "metadata": {},
   "source": [
    "<img src=\"http://imgur.com/1ZcRyrc.png\" style=\"float: left; margin: 20px; height: 55px\">\n",
    "\n",
    "# Codealong Exploring SVMs Using Sklearn\n",
    "\n",
    "_Authors: Joseph Nelson (DC), Justin Pounders_\n",
    "\n",
    "---"
   ]
  },
  {
   "cell_type": "markdown",
   "metadata": {},
   "source": [
    "## Learning Objectives\n",
    "\n",
    "- Describe how the SVM builds its decision threshold.\n",
    "- Explain the concept of the maximum margin hyperplane.\n",
    "- Describe the bias-variance tradeoff with respect to SVMs (i.e., how the regularization constant C allows SVMs to fit non-linearly separable problems.)\n",
    "- Use the kernel trick to transform problems from non-linearly separable to linearly separable."
   ]
  },
  {
   "cell_type": "code",
   "execution_count": 4,
   "metadata": {},
   "outputs": [],
   "source": [
    "from sklearn.linear_model import LogisticRegression\n",
    "import numpy as np\n",
    "import matplotlib.pyplot as plt\n",
    "from sklearn import svm, linear_model, datasets\n",
    "from sklearn.model_selection import cross_val_score\n",
    "\n",
    "plt.style.use('fivethirtyeight')\n",
    "\n",
    "%matplotlib inline\n",
    "%config InlineBackend.figure_format = 'retina'"
   ]
  },
  {
   "cell_type": "markdown",
   "metadata": {},
   "source": [
    "## Introduction to SVM\n",
    "\n",
    "Support Vector Machines (SVMs) are *statistical models* used for **classification**.\n",
    "\n",
    "---\n",
    "\n",
    "Review:\n",
    "- What is classification?\n",
    "- What other classification models have you seen?\n",
    "\n",
    "---\n",
    "\n",
    "### How to Think about SVM\n",
    "\n",
    "- The *geometric intuition* of SVMs is easier to grasp than the\n",
    "- *mathematical constructs* needed to make it work\n"
   ]
  },
  {
   "cell_type": "markdown",
   "metadata": {},
   "source": [
    "# Linear Separability\n",
    "\n",
    "SVMs work really well for data in which the classes are *linearly separable*.\n",
    "\n",
    "\n",
    "![fit](./assets/linear_separability_vs_not.png)\n"
   ]
  },
  {
   "cell_type": "markdown",
   "metadata": {},
   "source": [
    "## Maximum-Margin Estimator\n",
    "\n",
    "If classes are linearly seperable, SVM finds the *hyperplane* that sepearates the classess with *maximum margin*.\n",
    "\n",
    "<img src=\"./assets/lin_sep_1.png\" align=\"left\" width=\"400\">\n",
    "<img src=\"./assets/lin_sep_lin_2.png\" align=\"right\" width=\"400\">\n",
    "\n",
    "![fit](./assets/Margin.png)\n",
    "\n",
    "\n"
   ]
  },
  {
   "cell_type": "markdown",
   "metadata": {},
   "source": [
    "**Why maximize the margin?**\n",
    "\n",
    "- SVM solves for a decision boundary that should minimize the generalization error.\n",
    "- Observations near the decision boundary are the most \"ambiguous\"\n",
    "- SVM defines it's fit using the most ambiguous points\n",
    "\n",
    "![fit](./assets/linear_sep_support_vecs_math.png)"
   ]
  },
  {
   "cell_type": "markdown",
   "metadata": {},
   "source": [
    "### What if data are not linearly seperable?\n",
    "\n",
    "- Still want to minimize $\\|w\\|$ (maximize margin)\n",
    "- Would also like to minimize a *loss function* that penalizes points for being on the \"wrong side\"\n",
    "\n",
    "We can use the *hinge loss function*:\n",
    "\n",
    "$$\n",
    "\\begin{align}\n",
    "\\text{hinge loss} &= \\sum_{i=1}^n \\max\\left[ 0, 1-y_i(w^Tx_i+b)\\right] \\\\\n",
    "&= \\begin{cases}\n",
    "0 & \\text{if } x \\text{ outside or on margin} \\\\ > 0 & \\text{if } x \\text{ within margin}\n",
    "\\end{cases}\n",
    "\\end{align}\n",
    "$$\n",
    "\n",
    "*Hinge loss penalizes misclassified points!*\n",
    "\n",
    "Put \"simply,\" we want to minimize\n",
    "\n",
    "$$ C \\times \\left[ \\text{hinge loss} \\right] + \\left[ \\frac{1}{\\text{margin width}} \\right]$$\n",
    "\n",
    "where $C$ is a hyperparameter.  We can rewrite this slightly to see it as\n",
    "\n",
    "$$ \\left[ \\text{hinge loss} \\right] + \\frac{1}{C} \\left[ \\frac{1}{\\text{margin width}} \\right]$$\n",
    "\n",
    "$$\\sum_{i=1}^N \\max\\left(0, 1 - y_i(w^T x_i + b)\\right) +  \\frac{1}{C} ||w||^2$$\n",
    "\n",
    "i.e., loss + 1/C * regularization (c.f. Ridge!)\n",
    "\n"
   ]
  },
  {
   "cell_type": "markdown",
   "metadata": {},
   "source": [
    "> *Takeaway*: **Bias/variance trade-off** is handled via the hyperparameter $C$\n",
    ">\n",
    "> - Large $C \\rightarrow$ narrow margin, less tolerant of misclassification, tends toward high variance\n",
    "> - Small $C \\rightarrow$ wider margin, more tolerant of misclassification, tends toward high bias"
   ]
  },
  {
   "cell_type": "code",
   "execution_count": 2,
   "metadata": {},
   "outputs": [
    {
     "data": {
      "application/vnd.jupyter.widget-view+json": {
       "model_id": "addd36d174e148ebad60adf966c49c9f",
       "version_major": 2,
       "version_minor": 0
      },
      "text/plain": [
       "interactive(children=(FloatSlider(value=-1.5, continuous_update=False, description='log C:', max=6.0, min=-6.0…"
      ]
     },
     "metadata": {},
     "output_type": "display_data"
    }
   ],
   "source": [
    "from ipywidgets import *\n",
    "from IPython.display import display\n",
    "\n",
    "import imp\n",
    "plotter = imp.load_source('plotter', './code/svm_plotter.py')\n",
    "from plotter import SVMPlotter\n",
    "\n",
    "svm_plotter = SVMPlotter()\n",
    "svm_plotter.initialize_data(class_n=20)\n",
    "svm_plotter.svm_interact()"
   ]
  },
  {
   "cell_type": "markdown",
   "metadata": {},
   "source": [
    "## What if your data are not separable?\n",
    "\n",
    "Like, no where *close* to linearly separable?  **We can use something called the \"kernel trick.\"\n",
    "\n",
    "> Data that is not linearly sepearable in its default space may become linearly seperable in a higher dimensiosnal space.\n",
    "\n",
    "\n",
    "![fit](./assets/kernel_trick.png)\n"
   ]
  },
  {
   "cell_type": "code",
   "execution_count": 4,
   "metadata": {},
   "outputs": [
    {
     "data": {
      "text/html": [
       "<iframe width=\"560\" height=\"315\" src=\"https://www.youtube.com/embed/9NrALgHFwTo\" frameborder=\"0\" allow=\"autoplay; encrypted-media\" allowfullscreen></iframe>"
      ],
      "text/plain": [
       "<IPython.core.display.HTML object>"
      ]
     },
     "execution_count": 4,
     "metadata": {},
     "output_type": "execute_result"
    }
   ],
   "source": [
    "from IPython.display import HTML\n",
    "HTML('<iframe width=\"560\" height=\"315\" src=\"https://www.youtube.com/embed/9NrALgHFwTo\" frameborder=\"0\" allow=\"autoplay; encrypted-media\" allowfullscreen></iframe>')"
   ]
  },
  {
   "cell_type": "markdown",
   "metadata": {},
   "source": [
    "**Kernel choices** (in `sklearn`):\n",
    "\n",
    "- Linear\n",
    "- Polynomial\n",
    "- Gaussian, a.k.a. Radial Basis Functions (RBF)\n",
    "\n",
    "![fit](./assets/nonlinear-1.png)\n",
    "\n",
    "![fit](./assets/nonlinear-2.png)\n"
   ]
  },
  {
   "cell_type": "markdown",
   "metadata": {},
   "source": [
    "## Example: Digit Classification\n",
    "\n",
    "### 1. Load the handwritten digits dataset."
   ]
  },
  {
   "cell_type": "code",
   "execution_count": 5,
   "metadata": {},
   "outputs": [
    {
     "data": {
      "text/plain": [
       "array([[ 0.,  0.,  5., ...,  0.,  0.,  0.],\n",
       "       [ 0.,  0.,  0., ..., 10.,  0.,  0.],\n",
       "       [ 0.,  0.,  0., ..., 16.,  9.,  0.],\n",
       "       ...,\n",
       "       [ 0.,  0.,  1., ...,  6.,  0.,  0.],\n",
       "       [ 0.,  0.,  2., ..., 12.,  0.,  0.],\n",
       "       [ 0.,  0., 10., ..., 12.,  1.,  0.]])"
      ]
     },
     "execution_count": 5,
     "metadata": {},
     "output_type": "execute_result"
    }
   ],
   "source": [
    "# A:\n",
    "digits = datasets.load_digits()\n",
    "digits.data"
   ]
  },
  {
   "cell_type": "code",
   "execution_count": 6,
   "metadata": {},
   "outputs": [
    {
     "data": {
      "text/html": [
       "<div>\n",
       "<style scoped>\n",
       "    .dataframe tbody tr th:only-of-type {\n",
       "        vertical-align: middle;\n",
       "    }\n",
       "\n",
       "    .dataframe tbody tr th {\n",
       "        vertical-align: top;\n",
       "    }\n",
       "\n",
       "    .dataframe thead th {\n",
       "        text-align: right;\n",
       "    }\n",
       "</style>\n",
       "<table border=\"1\" class=\"dataframe\">\n",
       "  <thead>\n",
       "    <tr style=\"text-align: right;\">\n",
       "      <th></th>\n",
       "      <th>0</th>\n",
       "      <th>1</th>\n",
       "      <th>2</th>\n",
       "      <th>3</th>\n",
       "      <th>4</th>\n",
       "      <th>5</th>\n",
       "      <th>6</th>\n",
       "      <th>7</th>\n",
       "      <th>8</th>\n",
       "      <th>9</th>\n",
       "      <th>...</th>\n",
       "      <th>54</th>\n",
       "      <th>55</th>\n",
       "      <th>56</th>\n",
       "      <th>57</th>\n",
       "      <th>58</th>\n",
       "      <th>59</th>\n",
       "      <th>60</th>\n",
       "      <th>61</th>\n",
       "      <th>62</th>\n",
       "      <th>63</th>\n",
       "    </tr>\n",
       "  </thead>\n",
       "  <tbody>\n",
       "    <tr>\n",
       "      <th>0</th>\n",
       "      <td>0.0</td>\n",
       "      <td>0.0</td>\n",
       "      <td>5.0</td>\n",
       "      <td>13.0</td>\n",
       "      <td>9.0</td>\n",
       "      <td>1.0</td>\n",
       "      <td>0.0</td>\n",
       "      <td>0.0</td>\n",
       "      <td>0.0</td>\n",
       "      <td>0.0</td>\n",
       "      <td>...</td>\n",
       "      <td>0.0</td>\n",
       "      <td>0.0</td>\n",
       "      <td>0.0</td>\n",
       "      <td>0.0</td>\n",
       "      <td>6.0</td>\n",
       "      <td>13.0</td>\n",
       "      <td>10.0</td>\n",
       "      <td>0.0</td>\n",
       "      <td>0.0</td>\n",
       "      <td>0.0</td>\n",
       "    </tr>\n",
       "    <tr>\n",
       "      <th>1</th>\n",
       "      <td>0.0</td>\n",
       "      <td>0.0</td>\n",
       "      <td>0.0</td>\n",
       "      <td>12.0</td>\n",
       "      <td>13.0</td>\n",
       "      <td>5.0</td>\n",
       "      <td>0.0</td>\n",
       "      <td>0.0</td>\n",
       "      <td>0.0</td>\n",
       "      <td>0.0</td>\n",
       "      <td>...</td>\n",
       "      <td>0.0</td>\n",
       "      <td>0.0</td>\n",
       "      <td>0.0</td>\n",
       "      <td>0.0</td>\n",
       "      <td>0.0</td>\n",
       "      <td>11.0</td>\n",
       "      <td>16.0</td>\n",
       "      <td>10.0</td>\n",
       "      <td>0.0</td>\n",
       "      <td>0.0</td>\n",
       "    </tr>\n",
       "    <tr>\n",
       "      <th>2</th>\n",
       "      <td>0.0</td>\n",
       "      <td>0.0</td>\n",
       "      <td>0.0</td>\n",
       "      <td>4.0</td>\n",
       "      <td>15.0</td>\n",
       "      <td>12.0</td>\n",
       "      <td>0.0</td>\n",
       "      <td>0.0</td>\n",
       "      <td>0.0</td>\n",
       "      <td>0.0</td>\n",
       "      <td>...</td>\n",
       "      <td>5.0</td>\n",
       "      <td>0.0</td>\n",
       "      <td>0.0</td>\n",
       "      <td>0.0</td>\n",
       "      <td>0.0</td>\n",
       "      <td>3.0</td>\n",
       "      <td>11.0</td>\n",
       "      <td>16.0</td>\n",
       "      <td>9.0</td>\n",
       "      <td>0.0</td>\n",
       "    </tr>\n",
       "    <tr>\n",
       "      <th>3</th>\n",
       "      <td>0.0</td>\n",
       "      <td>0.0</td>\n",
       "      <td>7.0</td>\n",
       "      <td>15.0</td>\n",
       "      <td>13.0</td>\n",
       "      <td>1.0</td>\n",
       "      <td>0.0</td>\n",
       "      <td>0.0</td>\n",
       "      <td>0.0</td>\n",
       "      <td>8.0</td>\n",
       "      <td>...</td>\n",
       "      <td>9.0</td>\n",
       "      <td>0.0</td>\n",
       "      <td>0.0</td>\n",
       "      <td>0.0</td>\n",
       "      <td>7.0</td>\n",
       "      <td>13.0</td>\n",
       "      <td>13.0</td>\n",
       "      <td>9.0</td>\n",
       "      <td>0.0</td>\n",
       "      <td>0.0</td>\n",
       "    </tr>\n",
       "    <tr>\n",
       "      <th>4</th>\n",
       "      <td>0.0</td>\n",
       "      <td>0.0</td>\n",
       "      <td>0.0</td>\n",
       "      <td>1.0</td>\n",
       "      <td>11.0</td>\n",
       "      <td>0.0</td>\n",
       "      <td>0.0</td>\n",
       "      <td>0.0</td>\n",
       "      <td>0.0</td>\n",
       "      <td>0.0</td>\n",
       "      <td>...</td>\n",
       "      <td>0.0</td>\n",
       "      <td>0.0</td>\n",
       "      <td>0.0</td>\n",
       "      <td>0.0</td>\n",
       "      <td>0.0</td>\n",
       "      <td>2.0</td>\n",
       "      <td>16.0</td>\n",
       "      <td>4.0</td>\n",
       "      <td>0.0</td>\n",
       "      <td>0.0</td>\n",
       "    </tr>\n",
       "  </tbody>\n",
       "</table>\n",
       "<p>5 rows × 64 columns</p>\n",
       "</div>"
      ],
      "text/plain": [
       "    0    1    2     3     4     5    6    7    8    9  ...    54   55   56  \\\n",
       "0  0.0  0.0  5.0  13.0   9.0   1.0  0.0  0.0  0.0  0.0 ...   0.0  0.0  0.0   \n",
       "1  0.0  0.0  0.0  12.0  13.0   5.0  0.0  0.0  0.0  0.0 ...   0.0  0.0  0.0   \n",
       "2  0.0  0.0  0.0   4.0  15.0  12.0  0.0  0.0  0.0  0.0 ...   5.0  0.0  0.0   \n",
       "3  0.0  0.0  7.0  15.0  13.0   1.0  0.0  0.0  0.0  8.0 ...   9.0  0.0  0.0   \n",
       "4  0.0  0.0  0.0   1.0  11.0   0.0  0.0  0.0  0.0  0.0 ...   0.0  0.0  0.0   \n",
       "\n",
       "    57   58    59    60    61   62   63  \n",
       "0  0.0  6.0  13.0  10.0   0.0  0.0  0.0  \n",
       "1  0.0  0.0  11.0  16.0  10.0  0.0  0.0  \n",
       "2  0.0  0.0   3.0  11.0  16.0  9.0  0.0  \n",
       "3  0.0  7.0  13.0  13.0   9.0  0.0  0.0  \n",
       "4  0.0  0.0   2.0  16.0   4.0  0.0  0.0  \n",
       "\n",
       "[5 rows x 64 columns]"
      ]
     },
     "execution_count": 6,
     "metadata": {},
     "output_type": "execute_result"
    }
   ],
   "source": [
    "import pandas as pd\n",
    "df = pd.DataFrame(digits.data)\n",
    "df.head()"
   ]
  },
  {
   "cell_type": "code",
   "execution_count": 7,
   "metadata": {},
   "outputs": [
    {
     "data": {
      "text/plain": [
       "array([0, 1, 2, ..., 8, 9, 8])"
      ]
     },
     "execution_count": 7,
     "metadata": {},
     "output_type": "execute_result"
    }
   ],
   "source": [
    "digits.target"
   ]
  },
  {
   "cell_type": "code",
   "execution_count": 8,
   "metadata": {},
   "outputs": [],
   "source": [
    "X = digits.data\n",
    "y = digits.target"
   ]
  },
  {
   "cell_type": "markdown",
   "metadata": {},
   "source": [
    "### 2. Cross-validate a logistic regression on the data."
   ]
  },
  {
   "cell_type": "code",
   "execution_count": 7,
   "metadata": {
    "scrolled": true
   },
   "outputs": [
    {
     "data": {
      "text/plain": [
       "0.9210188113360701"
      ]
     },
     "execution_count": 7,
     "metadata": {},
     "output_type": "execute_result"
    }
   ],
   "source": [
    "log_model = LogisticRegression()\n",
    "cross_val_score(log_model, X, y, cv=5).mean()"
   ]
  },
  {
   "cell_type": "markdown",
   "metadata": {},
   "source": [
    "### 3. Cross-validate a SVM on the data."
   ]
  },
  {
   "cell_type": "code",
   "execution_count": 8,
   "metadata": {},
   "outputs": [
    {
     "data": {
      "text/plain": [
       "0.9493348726211526"
      ]
     },
     "execution_count": 8,
     "metadata": {},
     "output_type": "execute_result"
    }
   ],
   "source": [
    "svm_model = svm.SVC(kernel='linear') # defult is rbf but here linear is better\n",
    "cross_val_score(svm_model, X, y, cv=5).mean()"
   ]
  },
  {
   "cell_type": "markdown",
   "metadata": {},
   "source": [
    "## Gaussian SVM has two parameters, gamma and C\n",
    "\n",
    "---\n",
    "\n",
    "### gamma\n",
    "\n",
    "Intuitively, the gamma parameter defines how far the influence of a single training example reaches, with low values meaning ‘far’ and high values meaning ‘close’. \n",
    "\n",
    "The higher the value of gamma, the more it will try to exactly fit the training data set. Will cause over-fitting problem.\n",
    "- small gamma: the model is constrained, can under-fit!  high bias and low variance.\n",
    "- big gamma: Tries to capture the shape too well: can over-fit!  low bias and high variance.\n",
    "\n",
    "\n",
    "### C\n",
    "\n",
    "Penalty parameter of the error term. It controls the trade off between smooth decision boundary and classifying the training points correctly. C can be thought of as the parameter for the soft margin cost function, which controls the influence of each individual support vector\n",
    "\n",
    "- small C: makes the decision surface smooth and simple, softer margin can under-fit! high bias and low variance.\n",
    "- big C: selects more support vectors: can over-fit! harder margin. low bias and high variance.\n"
   ]
  },
  {
   "cell_type": "markdown",
   "metadata": {},
   "source": [
    "### 4. Fit an SVM modifying the default gamma and C."
   ]
  },
  {
   "cell_type": "code",
   "execution_count": 9,
   "metadata": {},
   "outputs": [
    {
     "data": {
      "text/plain": [
       "0.9716361987950688"
      ]
     },
     "execution_count": 9,
     "metadata": {},
     "output_type": "execute_result"
    }
   ],
   "source": [
    "rbf_svc = svm.SVC(kernel='rbf', gamma=0.7, C=C).fit(iris_X, iris_y)  # default kernel\n",
    "svc = svm.SVC(kernel='linear', C=C).fit(iris_X, iris_y)\n",
    "poly_svc = svm.SVC(kernel='poly', degree=3, C=C).fit(iris_X, iris_y)\n",
    "\n",
    "\n",
    "svm_model = svm.SVC(gamma=0.001) # use the defult kernal which is rbf with stting gamma paramter\n",
    "cross_val_score(svm_model, X, y, cv=5).mean()"
   ]
  },
  {
   "cell_type": "markdown",
   "metadata": {},
   "source": [
    "### 5. Gridsearch an optimal gamma with C=1."
   ]
  },
  {
   "cell_type": "code",
   "execution_count": 10,
   "metadata": {},
   "outputs": [
    {
     "name": "stdout",
     "output_type": "stream",
     "text": [
      "CPU times: user 8 µs, sys: 0 ns, total: 8 µs\n",
      "Wall time: 12.9 µs\n"
     ]
    }
   ],
   "source": [
    "from sklearn.model_selection import GridSearchCV"
   ]
  },
  {
   "cell_type": "code",
   "execution_count": 11,
   "metadata": {},
   "outputs": [],
   "source": [
    "clf = svm.SVC()"
   ]
  },
  {
   "cell_type": "code",
   "execution_count": 12,
   "metadata": {},
   "outputs": [
    {
     "name": "stdout",
     "output_type": "stream",
     "text": [
      "Fitting 5 folds for each of 20 candidates, totalling 100 fits\n",
      "[CV] gamma=1e-05 .....................................................\n",
      "[CV] ...................................... gamma=1e-05, total=   0.3s\n",
      "[CV] gamma=1e-05 .....................................................\n"
     ]
    },
    {
     "name": "stderr",
     "output_type": "stream",
     "text": [
      "[Parallel(n_jobs=1)]: Done   1 out of   1 | elapsed:    0.4s remaining:    0.0s\n"
     ]
    },
    {
     "name": "stdout",
     "output_type": "stream",
     "text": [
      "[CV] ...................................... gamma=1e-05, total=   0.2s\n",
      "[CV] gamma=1e-05 .....................................................\n",
      "[CV] ...................................... gamma=1e-05, total=   0.2s\n",
      "[CV] gamma=1e-05 .....................................................\n",
      "[CV] ...................................... gamma=1e-05, total=   0.2s\n",
      "[CV] gamma=1e-05 .....................................................\n",
      "[CV] ...................................... gamma=1e-05, total=   0.2s\n",
      "[CV] gamma=2.3357214690901213e-05 ....................................\n",
      "[CV] ..................... gamma=2.3357214690901213e-05, total=   0.2s\n",
      "[CV] gamma=2.3357214690901213e-05 ....................................\n",
      "[CV] ..................... gamma=2.3357214690901213e-05, total=   0.2s\n",
      "[CV] gamma=2.3357214690901213e-05 ....................................\n",
      "[CV] ..................... gamma=2.3357214690901213e-05, total=   0.2s\n",
      "[CV] gamma=2.3357214690901213e-05 ....................................\n",
      "[CV] ..................... gamma=2.3357214690901213e-05, total=   0.2s\n",
      "[CV] gamma=2.3357214690901213e-05 ....................................\n",
      "[CV] ..................... gamma=2.3357214690901213e-05, total=   0.2s\n",
      "[CV] gamma=5.4555947811685143e-05 ....................................\n",
      "[CV] ..................... gamma=5.4555947811685143e-05, total=   0.1s\n",
      "[CV] gamma=5.4555947811685143e-05 ....................................\n",
      "[CV] ..................... gamma=5.4555947811685143e-05, total=   0.1s\n",
      "[CV] gamma=5.4555947811685143e-05 ....................................\n",
      "[CV] ..................... gamma=5.4555947811685143e-05, total=   0.1s\n",
      "[CV] gamma=5.4555947811685143e-05 ....................................\n",
      "[CV] ..................... gamma=5.4555947811685143e-05, total=   0.1s\n",
      "[CV] gamma=5.4555947811685143e-05 ....................................\n",
      "[CV] ..................... gamma=5.4555947811685143e-05, total=   0.1s\n",
      "[CV] gamma=0.00012742749857031334 ....................................\n",
      "[CV] ..................... gamma=0.00012742749857031334, total=   0.1s\n",
      "[CV] gamma=0.00012742749857031334 ....................................\n",
      "[CV] ..................... gamma=0.00012742749857031334, total=   0.1s\n",
      "[CV] gamma=0.00012742749857031334 ....................................\n",
      "[CV] ..................... gamma=0.00012742749857031334, total=   0.1s\n",
      "[CV] gamma=0.00012742749857031334 ....................................\n",
      "[CV] ..................... gamma=0.00012742749857031334, total=   0.1s\n",
      "[CV] gamma=0.00012742749857031334 ....................................\n",
      "[CV] ..................... gamma=0.00012742749857031334, total=   0.1s\n",
      "[CV] gamma=0.00029763514416313193 ....................................\n",
      "[CV] ..................... gamma=0.00029763514416313193, total=   0.1s\n",
      "[CV] gamma=0.00029763514416313193 ....................................\n",
      "[CV] ..................... gamma=0.00029763514416313193, total=   0.1s\n",
      "[CV] gamma=0.00029763514416313193 ....................................\n",
      "[CV] ..................... gamma=0.00029763514416313193, total=   0.1s\n",
      "[CV] gamma=0.00029763514416313193 ....................................\n",
      "[CV] ..................... gamma=0.00029763514416313193, total=   0.1s\n",
      "[CV] gamma=0.00029763514416313193 ....................................\n",
      "[CV] ..................... gamma=0.00029763514416313193, total=   0.1s\n",
      "[CV] gamma=0.0006951927961775605 .....................................\n",
      "[CV] ...................... gamma=0.0006951927961775605, total=   0.1s\n",
      "[CV] gamma=0.0006951927961775605 .....................................\n",
      "[CV] ...................... gamma=0.0006951927961775605, total=   0.1s\n",
      "[CV] gamma=0.0006951927961775605 .....................................\n",
      "[CV] ...................... gamma=0.0006951927961775605, total=   0.1s\n",
      "[CV] gamma=0.0006951927961775605 .....................................\n",
      "[CV] ...................... gamma=0.0006951927961775605, total=   0.1s\n",
      "[CV] gamma=0.0006951927961775605 .....................................\n",
      "[CV] ...................... gamma=0.0006951927961775605, total=   0.1s\n",
      "[CV] gamma=0.001623776739188721 ......................................\n",
      "[CV] ....................... gamma=0.001623776739188721, total=   0.2s\n",
      "[CV] gamma=0.001623776739188721 ......................................\n",
      "[CV] ....................... gamma=0.001623776739188721, total=   0.1s\n",
      "[CV] gamma=0.001623776739188721 ......................................\n",
      "[CV] ....................... gamma=0.001623776739188721, total=   0.1s\n",
      "[CV] gamma=0.001623776739188721 ......................................\n",
      "[CV] ....................... gamma=0.001623776739188721, total=   0.2s\n",
      "[CV] gamma=0.001623776739188721 ......................................\n",
      "[CV] ....................... gamma=0.001623776739188721, total=   0.1s\n",
      "[CV] gamma=0.00379269019073225 .......................................\n",
      "[CV] ........................ gamma=0.00379269019073225, total=   0.4s\n",
      "[CV] gamma=0.00379269019073225 .......................................\n",
      "[CV] ........................ gamma=0.00379269019073225, total=   0.3s\n",
      "[CV] gamma=0.00379269019073225 .......................................\n",
      "[CV] ........................ gamma=0.00379269019073225, total=   0.3s\n",
      "[CV] gamma=0.00379269019073225 .......................................\n",
      "[CV] ........................ gamma=0.00379269019073225, total=   0.3s\n",
      "[CV] gamma=0.00379269019073225 .......................................\n",
      "[CV] ........................ gamma=0.00379269019073225, total=   0.4s\n",
      "[CV] gamma=0.008858667904100823 ......................................\n",
      "[CV] ....................... gamma=0.008858667904100823, total=   0.4s\n",
      "[CV] gamma=0.008858667904100823 ......................................\n",
      "[CV] ....................... gamma=0.008858667904100823, total=   0.4s\n",
      "[CV] gamma=0.008858667904100823 ......................................\n",
      "[CV] ....................... gamma=0.008858667904100823, total=   0.4s\n",
      "[CV] gamma=0.008858667904100823 ......................................\n",
      "[CV] ....................... gamma=0.008858667904100823, total=   0.4s\n",
      "[CV] gamma=0.008858667904100823 ......................................\n",
      "[CV] ....................... gamma=0.008858667904100823, total=   0.4s\n",
      "[CV] gamma=0.02069138081114788 .......................................\n",
      "[CV] ........................ gamma=0.02069138081114788, total=   0.4s\n",
      "[CV] gamma=0.02069138081114788 .......................................\n",
      "[CV] ........................ gamma=0.02069138081114788, total=   0.4s\n",
      "[CV] gamma=0.02069138081114788 .......................................\n",
      "[CV] ........................ gamma=0.02069138081114788, total=   0.4s\n",
      "[CV] gamma=0.02069138081114788 .......................................\n",
      "[CV] ........................ gamma=0.02069138081114788, total=   0.4s\n",
      "[CV] gamma=0.02069138081114788 .......................................\n",
      "[CV] ........................ gamma=0.02069138081114788, total=   0.4s\n",
      "[CV] gamma=0.04832930238571752 .......................................\n",
      "[CV] ........................ gamma=0.04832930238571752, total=   0.4s\n",
      "[CV] gamma=0.04832930238571752 .......................................\n",
      "[CV] ........................ gamma=0.04832930238571752, total=   0.4s\n",
      "[CV] gamma=0.04832930238571752 .......................................\n",
      "[CV] ........................ gamma=0.04832930238571752, total=   0.4s\n",
      "[CV] gamma=0.04832930238571752 .......................................\n",
      "[CV] ........................ gamma=0.04832930238571752, total=   0.4s\n",
      "[CV] gamma=0.04832930238571752 .......................................\n",
      "[CV] ........................ gamma=0.04832930238571752, total=   0.4s\n",
      "[CV] gamma=0.11288378916846883 .......................................\n",
      "[CV] ........................ gamma=0.11288378916846883, total=   0.4s\n",
      "[CV] gamma=0.11288378916846883 .......................................\n",
      "[CV] ........................ gamma=0.11288378916846883, total=   0.4s\n",
      "[CV] gamma=0.11288378916846883 .......................................\n",
      "[CV] ........................ gamma=0.11288378916846883, total=   0.4s\n",
      "[CV] gamma=0.11288378916846883 .......................................\n",
      "[CV] ........................ gamma=0.11288378916846883, total=   0.4s\n",
      "[CV] gamma=0.11288378916846883 .......................................\n"
     ]
    },
    {
     "name": "stdout",
     "output_type": "stream",
     "text": [
      "[CV] ........................ gamma=0.11288378916846883, total=   0.4s\n",
      "[CV] gamma=0.26366508987303555 .......................................\n",
      "[CV] ........................ gamma=0.26366508987303555, total=   0.4s\n",
      "[CV] gamma=0.26366508987303555 .......................................\n",
      "[CV] ........................ gamma=0.26366508987303555, total=   0.4s\n",
      "[CV] gamma=0.26366508987303555 .......................................\n",
      "[CV] ........................ gamma=0.26366508987303555, total=   0.4s\n",
      "[CV] gamma=0.26366508987303555 .......................................\n",
      "[CV] ........................ gamma=0.26366508987303555, total=   0.4s\n",
      "[CV] gamma=0.26366508987303555 .......................................\n",
      "[CV] ........................ gamma=0.26366508987303555, total=   0.4s\n",
      "[CV] gamma=0.6158482110660255 ........................................\n",
      "[CV] ......................... gamma=0.6158482110660255, total=   0.3s\n",
      "[CV] gamma=0.6158482110660255 ........................................\n",
      "[CV] ......................... gamma=0.6158482110660255, total=   0.3s\n",
      "[CV] gamma=0.6158482110660255 ........................................\n",
      "[CV] ......................... gamma=0.6158482110660255, total=   0.3s\n",
      "[CV] gamma=0.6158482110660255 ........................................\n",
      "[CV] ......................... gamma=0.6158482110660255, total=   0.3s\n",
      "[CV] gamma=0.6158482110660255 ........................................\n",
      "[CV] ......................... gamma=0.6158482110660255, total=   0.3s\n",
      "[CV] gamma=1.438449888287663 .........................................\n",
      "[CV] .......................... gamma=1.438449888287663, total=   0.3s\n",
      "[CV] gamma=1.438449888287663 .........................................\n",
      "[CV] .......................... gamma=1.438449888287663, total=   0.3s\n",
      "[CV] gamma=1.438449888287663 .........................................\n",
      "[CV] .......................... gamma=1.438449888287663, total=   0.3s\n",
      "[CV] gamma=1.438449888287663 .........................................\n",
      "[CV] .......................... gamma=1.438449888287663, total=   0.3s\n",
      "[CV] gamma=1.438449888287663 .........................................\n",
      "[CV] .......................... gamma=1.438449888287663, total=   0.3s\n",
      "[CV] gamma=3.359818286283781 .........................................\n",
      "[CV] .......................... gamma=3.359818286283781, total=   0.3s\n",
      "[CV] gamma=3.359818286283781 .........................................\n",
      "[CV] .......................... gamma=3.359818286283781, total=   0.3s\n",
      "[CV] gamma=3.359818286283781 .........................................\n",
      "[CV] .......................... gamma=3.359818286283781, total=   0.3s\n",
      "[CV] gamma=3.359818286283781 .........................................\n",
      "[CV] .......................... gamma=3.359818286283781, total=   0.3s\n",
      "[CV] gamma=3.359818286283781 .........................................\n",
      "[CV] .......................... gamma=3.359818286283781, total=   0.3s\n",
      "[CV] gamma=7.847599703514607 .........................................\n",
      "[CV] .......................... gamma=7.847599703514607, total=   0.3s\n",
      "[CV] gamma=7.847599703514607 .........................................\n",
      "[CV] .......................... gamma=7.847599703514607, total=   0.3s\n",
      "[CV] gamma=7.847599703514607 .........................................\n",
      "[CV] .......................... gamma=7.847599703514607, total=   0.3s\n",
      "[CV] gamma=7.847599703514607 .........................................\n",
      "[CV] .......................... gamma=7.847599703514607, total=   0.3s\n",
      "[CV] gamma=7.847599703514607 .........................................\n",
      "[CV] .......................... gamma=7.847599703514607, total=   0.3s\n",
      "[CV] gamma=18.32980710832434 .........................................\n",
      "[CV] .......................... gamma=18.32980710832434, total=   0.3s\n",
      "[CV] gamma=18.32980710832434 .........................................\n",
      "[CV] .......................... gamma=18.32980710832434, total=   0.3s\n",
      "[CV] gamma=18.32980710832434 .........................................\n",
      "[CV] .......................... gamma=18.32980710832434, total=   0.3s\n",
      "[CV] gamma=18.32980710832434 .........................................\n",
      "[CV] .......................... gamma=18.32980710832434, total=   0.3s\n",
      "[CV] gamma=18.32980710832434 .........................................\n",
      "[CV] .......................... gamma=18.32980710832434, total=   0.3s\n",
      "[CV] gamma=42.81332398719387 .........................................\n",
      "[CV] .......................... gamma=42.81332398719387, total=   0.3s\n",
      "[CV] gamma=42.81332398719387 .........................................\n",
      "[CV] .......................... gamma=42.81332398719387, total=   0.3s\n",
      "[CV] gamma=42.81332398719387 .........................................\n",
      "[CV] .......................... gamma=42.81332398719387, total=   0.3s\n",
      "[CV] gamma=42.81332398719387 .........................................\n",
      "[CV] .......................... gamma=42.81332398719387, total=   0.3s\n",
      "[CV] gamma=42.81332398719387 .........................................\n",
      "[CV] .......................... gamma=42.81332398719387, total=   0.3s\n",
      "[CV] gamma=100.0 .....................................................\n",
      "[CV] ...................................... gamma=100.0, total=   0.3s\n",
      "[CV] gamma=100.0 .....................................................\n",
      "[CV] ...................................... gamma=100.0, total=   0.3s\n",
      "[CV] gamma=100.0 .....................................................\n",
      "[CV] ...................................... gamma=100.0, total=   0.3s\n",
      "[CV] gamma=100.0 .....................................................\n",
      "[CV] ...................................... gamma=100.0, total=   0.3s\n",
      "[CV] gamma=100.0 .....................................................\n",
      "[CV] ...................................... gamma=100.0, total=   0.3s\n"
     ]
    },
    {
     "name": "stderr",
     "output_type": "stream",
     "text": [
      "[Parallel(n_jobs=1)]: Done 100 out of 100 | elapsed:   39.2s finished\n"
     ]
    },
    {
     "data": {
      "text/plain": [
       "GridSearchCV(cv=5, error_score='raise',\n",
       "       estimator=SVC(C=1.0, cache_size=200, class_weight=None, coef0=0.0,\n",
       "  decision_function_shape='ovr', degree=3, gamma='auto', kernel='rbf',\n",
       "  max_iter=-1, probability=False, random_state=None, shrinking=True,\n",
       "  tol=0.001, verbose=False),\n",
       "       fit_params=None, iid=True, n_jobs=1,\n",
       "       param_grid={'gamma': array([1.00000e-05, 2.33572e-05, 5.45559e-05, 1.27427e-04, 2.97635e-04,\n",
       "       6.95193e-04, 1.62378e-03, 3.79269e-03, 8.85867e-03, 2.06914e-02,\n",
       "       4.83293e-02, 1.12884e-01, 2.63665e-01, 6.15848e-01, 1.43845e+00,\n",
       "       3.35982e+00, 7.84760e+00, 1.83298e+01, 4.28133e+01, 1.00000e+02])},\n",
       "       pre_dispatch='2*n_jobs', refit=True, return_train_score='warn',\n",
       "       scoring=None, verbose=2)"
      ]
     },
     "execution_count": 12,
     "metadata": {},
     "output_type": "execute_result"
    }
   ],
   "source": [
    "parm_grid = {'gamma': np.logspace(-5, 2, 20)}\n",
    "grid = GridSearchCV(clf, parm_grid, cv=5, verbose=2)\n",
    "grid.fit(X,y)"
   ]
  },
  {
   "cell_type": "code",
   "execution_count": 13,
   "metadata": {
    "scrolled": true
   },
   "outputs": [
    {
     "data": {
      "text/plain": [
       "{'gamma': 0.001623776739188721}"
      ]
     },
     "execution_count": 13,
     "metadata": {},
     "output_type": "execute_result"
    }
   ],
   "source": [
    "grid.best_params_"
   ]
  },
  {
   "cell_type": "markdown",
   "metadata": {},
   "source": [
    "---\n",
    "\n",
    "## Pros and Cons of SVMs\n",
    "\n",
    "*Pros*\n",
    "\n",
    "- Exceptional perfomance (historically widely used)\n",
    "- Robust to outliers\n",
    "- Effective in high dimensional data\n",
    "- Can work with non-linearities\n",
    "- Fast to compute even on non-linear (kernel trick)\n",
    "- Low risk of overfitting\n",
    "\n",
    "*Cons*\n",
    "\n",
    "- Blackbox\n",
    "- Can be slow on large datasets\n"
   ]
  },
  {
   "cell_type": "markdown",
   "metadata": {},
   "source": [
    "## When to use SVM vs. Logistic Regression\n",
    "\n",
    "*(Advice from Andrew Ng)*\n",
    "\n",
    "- **If there are more feature than training samples:**\n",
    "    Use logistic regression or SVM without a kernel (\"linear kernel\")\n",
    "- **If there are about 10 times as many samples as features:**\n",
    "    Use SVM with a Gaussian kernel  \n",
    "- **If there are many more training samples than features:**\n",
    "    Spend time feature engineering, then use logistic regression or SVM without a kernel\n"
   ]
  },
  {
   "cell_type": "markdown",
   "metadata": {},
   "source": [
    "## Additional Resources\n",
    "\n",
    "- [For a really great resource check out these slides (some of which are cannabalized in this lecture).](http://www.robots.ox.ac.uk/~az/lectures/ml/lect2.pdf)\n",
    "- [This website is also a great resource, on a slightly more technical level.](http://nlp.stanford.edu/IR-book/html/htmledition/support-vector-machines-the-linearly-separable-case-1.html)\n",
    "- SVM docs on [SKLearn](http://scikit-learn.org/stable/modules/svm.html)\n",
    "- Iris example on [SKLearn](http://scikit-learn.org/stable/auto_examples/svm/plot_iris.html#example-svm-plot-iris-py)\n",
    "- Hyperplane walkthrough on [SKLearn](http://scikit-learn.org/stable/auto_examples/svm/plot_separating_hyperplane.html#example-svm-plot-separating-hyperplane-py)\n",
    "- A comprehensive [user guide](http://pyml.sourceforge.net/doc/howto.pdf) to SVM. My fav!\n",
    "- A [blog post tutorial](http://www.svm-tutorial.com/2014/11/svm-understanding-math-part-2/) of understanding the linear algebra behind SVM hyperplanes. Check [part 3](http://www.svm-tutorial.com/2015/06/svm-understanding-math-part-3/) of this blog on finding the optimal hyperplane\n",
    "- This [Quora discussion](https://www.quora.com/How-do-you-teach-Support-Vector-Machine-to-a-beginner-in-Machine-Learning) includes a high-level overview plus a [20min video](https://www.youtube.com/watch?v=aDbsJ_S3tIA) walking through the core \"need-to-knows\"\n",
    "- A [slideshow introduction](http://www.cs.columbia.edu/~kathy/cs4701/documents/jason_svm_tutorial.pdf) to the optimization considerations of SVM\n",
    "- A second [slideshow overview from UCF](http://www.cs.ucf.edu/courses/cap6412/fall2009/papers/Berwick2003.pdf) on the highnotes of SVM\n",
    "- Andrew Ng's [notes](http://cs229.stanford.edu/notes/cs229-notes3.pdf) on SVM from CS 229\n",
    "- A [FULL LECTURE](https://www.youtube.com/watch?v=eHsErlPJWUU) (1hr+) from one of my fav lecturers (Dr Yasser) on SVM. He does a followup on [kernel tricks](https://www.youtube.com/watch?v=XUj5JbQihlU) too\n",
    "- A [FULL LECTURE](https://www.youtube.com/watch?v=_PwhiWxHK8o) (50min) (from MIT Opencoursewar)\n",
    "- An infamous [paper](https://www.cs.cornell.edu/people/tj/publications/joachims_98a.pdf) (cited 7000+ times!) on why SVM is a great text classifier\n",
    "- An [advanced discussion](http://www.icml-2011.org/papers/386_icmlpaper.pdf) of SVMs as probabilistic models\n"
   ]
  },
  {
   "cell_type": "markdown",
   "metadata": {
    "collapsed": true
   },
   "source": [
    "### 7. [Extra Practice] Import the iris dataset."
   ]
  },
  {
   "cell_type": "code",
   "execution_count": 15,
   "metadata": {},
   "outputs": [],
   "source": []
  },
  {
   "cell_type": "markdown",
   "metadata": {},
   "source": [
    "### 8. [Extra Practice] Cross-validate a default logistic regression and default SVM on the iris data."
   ]
  },
  {
   "cell_type": "code",
   "execution_count": null,
   "metadata": {},
   "outputs": [],
   "source": []
  },
  {
   "cell_type": "markdown",
   "metadata": {},
   "source": [
    "### 9. [Extra Practice] Compare three SVMs with different kernels on the iris data visually.\n",
    "- Gaussian\n",
    "- Linear\n",
    "- Poly of degree 3"
   ]
  },
  {
   "cell_type": "code",
   "execution_count": null,
   "metadata": {},
   "outputs": [],
   "source": []
  },
  {
   "cell_type": "markdown",
   "metadata": {},
   "source": [
    "### 10. [Bonus] Compare SVM kernels visually on fake data using sklearn's `make_circles`.\n",
    "\n",
    "Load `make_circles` from here:\n",
    "```python\n",
    "from sklearn.datasets import make_circles\n",
    "```\n",
    "\n",
    "Compare the linear, rbf, and poly kernels."
   ]
  },
  {
   "cell_type": "code",
   "execution_count": null,
   "metadata": {},
   "outputs": [],
   "source": []
  },
  {
   "cell_type": "markdown",
   "metadata": {},
   "source": [
    "Evaluate linear, polynomial (degree 3) and rbf kernels with default parameters."
   ]
  },
  {
   "cell_type": "code",
   "execution_count": null,
   "metadata": {},
   "outputs": [],
   "source": []
  }
 ],
 "metadata": {
  "anaconda-cloud": {},
  "kernelspec": {
   "display_name": "Python 3",
   "language": "python",
   "name": "python3"
  },
  "language_info": {
   "codemirror_mode": {
    "name": "ipython",
    "version": 3
   },
   "file_extension": ".py",
   "mimetype": "text/x-python",
   "name": "python",
   "nbconvert_exporter": "python",
   "pygments_lexer": "ipython3",
   "version": "3.6.5"
  }
 },
 "nbformat": 4,
 "nbformat_minor": 1
}
